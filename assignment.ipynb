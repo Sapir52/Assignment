{
 "cells": [
  {
   "cell_type": "code",
   "execution_count": 1,
   "id": "04c8e28a",
   "metadata": {},
   "outputs": [],
   "source": [
    "import json, os\n",
    "from glob import glob\n",
    "from PIL import Image, ExifTags\n",
    "from datetime import datetime\n",
    "import pandas as pd"
   ]
  },
  {
   "cell_type": "code",
   "execution_count": 2,
   "id": "0d54bcee",
   "metadata": {},
   "outputs": [],
   "source": [
    "def getPhotosFromTheEvening(folder):\n",
    "    \"\"\"\n",
    "    A function that gets the name of a folder that contains jpg images \n",
    "    and prints the name of the images taken during the evening.\n",
    "    \"\"\"\n",
    "    # Load photos from a folder named input_data\n",
    "    dir_path = glob(folder + \"/*.jpg\")\n",
    "    # The loop runs on every photo\n",
    "    for img in dir_path:\n",
    "        image_exif = Image.open(img)._getexif()\n",
    "        if image_exif:\n",
    "            # Make a map with tag names\n",
    "            exif = { ExifTags.TAGS[key]: value for key, value in image_exif.items() if key in ExifTags.TAGS and type(value) is not bytes }\n",
    "            #print(json.dumps(exif, indent=4))\n",
    "            # Get the date of the picture\n",
    "            date_obj = pd.to_datetime(exif['DateTimeOriginal'],infer_datetime_format=True)\n",
    "            #print(date_obj)\n",
    "            # Check whether the photo was taken during the evening. (After 18)\n",
    "            if date_obj.hour >= 18:\n",
    "                print(img.split(\"\\\\\")[-1])\n",
    "        else:\n",
    "            #print('Unable to get date from exif for %s' % img)\n",
    "            continue"
   ]
  },
  {
   "cell_type": "code",
   "execution_count": 3,
   "id": "86c69c91",
   "metadata": {},
   "outputs": [
    {
     "name": "stdout",
     "output_type": "stream",
     "text": [
      "pic1.jpg\n",
      "pic2.jpg\n",
      "pic4.jpg\n"
     ]
    }
   ],
   "source": [
    "if __name__ == \"__main__\":\n",
    "    folder = \"input_data\"\n",
    "    # Check If Path Exists\n",
    "    if os.path.exists(folder):\n",
    "        getPhotosFromTheEvening(folder)\n",
    "    else:\n",
    "        print(\"path not exists\")"
   ]
  },
  {
   "cell_type": "code",
   "execution_count": null,
   "id": "8ffaadfc",
   "metadata": {},
   "outputs": [],
   "source": []
  }
 ],
 "metadata": {
  "kernelspec": {
   "display_name": "Python 3",
   "language": "python",
   "name": "python3"
  },
  "language_info": {
   "codemirror_mode": {
    "name": "ipython",
    "version": 3
   },
   "file_extension": ".py",
   "mimetype": "text/x-python",
   "name": "python",
   "nbconvert_exporter": "python",
   "pygments_lexer": "ipython3",
   "version": "3.8.8"
  }
 },
 "nbformat": 4,
 "nbformat_minor": 5
}
