{
 "cells": [
  {
   "cell_type": "code",
   "execution_count": 1,
   "id": "04c8e28a",
   "metadata": {},
   "outputs": [],
   "source": [
    "import os\n",
    "from glob import glob\n",
    "import pandas as pd\n",
    "import exifread\n",
    "import time \n",
    "import warnings\n",
    "warnings.filterwarnings(\"ignore\")\n",
    "# https://in-the-sky.org/sunrise.php?startday=31&startmonth=5&startyear=2022&interval=4&tz=0"
   ]
  },
  {
   "cell_type": "code",
   "execution_count": 2,
   "id": "cae2a8eb",
   "metadata": {},
   "outputs": [],
   "source": [
    "class PhotosFromTheEvening():\n",
    "    \n",
    "    def __init__(self,folder, sunset):\n",
    "        self.folder_name = folder\n",
    "        self.sunset_name = sunset\n",
    "        self.df_images = self.getDataSet()\n",
    "        self.df_sunset = self.get_file()\n",
    "        df_results = self.df_images['image_nane'].apply(self.getPhotosFromTheEvening)\n",
    "    \n",
    "    # Convert the data to a datetime format\n",
    "    toDatetime = lambda data: pd.to_datetime(data,infer_datetime_format=True)\n",
    "    \n",
    "    def getDataSet(self):\n",
    "        # Load image from a folder named \"input_data\"\n",
    "        list_of_images = glob(self.folder_name + \"/*.jpg\")\n",
    "        # Turn a list into a data frame\n",
    "        df_images = pd.DataFrame({'image_nane':list_of_images})\n",
    "        return df_images\n",
    "    \n",
    "    def get_file(self):\n",
    "        # Load csv from a file named \"sunrise_sunset_times_jerusalem.csv\"\n",
    "        df_sunset=pd.read_csv(self.sunset_name)\n",
    "        # Convert the columns 'Month' and 'Year' to int\n",
    "        df_sunset[['Month','Year']] = df_sunset[['Month','Year']].astype(int)\n",
    "        return df_sunset\n",
    "    \n",
    "    def getTimeSunset(self, date_obj):\n",
    "        '''\n",
    "        A method that receives the image data (date and time of shooting) checks the sunset time of the sun \n",
    "        according to the image data. Returns the number of minutes and hour of sunset.\n",
    "        '''\n",
    "        # Check if the year and month are the same as those obtained from the image, then select the data \n",
    "        data=self.df_sunset.loc[ (self.df_sunset['Year']== date_obj.year) & (self.df_sunset['Month']==date_obj.month) ]\n",
    "        # From the data, select the sunset time\n",
    "        data['Sunset_time'] = self.__class__.toDatetime(data['Set'])\n",
    "        # Convert the hours and minutes of sunset to int\n",
    "        minute_sunset, hour_sunset = int(data['Sunset_time'].dt.minute), int(data['Sunset_time'].dt.hour)\n",
    "        return minute_sunset, hour_sunset \n",
    "             \n",
    "            \n",
    "    def getPhotosFromTheEvening(self, img):\n",
    "        '''\n",
    "        A method that receives the image. Finds data from the image, compares with the sunset data of the sun.\n",
    "        Returns the name of the  images that was taken in the evening.\n",
    "        '''\n",
    "        # Open up the file for reading\n",
    "        exif = exifread.process_file(open(img, 'rb'))\n",
    "        # If there is metadata for the image\n",
    "        if exif:\n",
    "            date_obj = self.__class__.toDatetime(str(exif['EXIF DateTimeOriginal']))\n",
    "            #geo = {i:exif[i] for i in exif.keys() if i.startswith('Image GPS')}\n",
    "            #print(geo)\n",
    "            minute_sunset, hour_sunset =self.getTimeSunset(date_obj)\n",
    "            # Check whether the photo was taken during the evening. (After sunset and befor 24)\n",
    "            if date_obj.hour >= hour_sunset and date_obj.minute>= minute_sunset and date_obj.hour <= 24:\n",
    "                print(img.split(\"\\\\\")[-1])\n"
   ]
  },
  {
   "cell_type": "code",
   "execution_count": 3,
   "id": "468b7d13",
   "metadata": {},
   "outputs": [
    {
     "name": "stdout",
     "output_type": "stream",
     "text": [
      "pic1.jpg\n",
      "pic4.jpg\n"
     ]
    }
   ],
   "source": [
    "if __name__ == \"__main__\":\n",
    "    # Check If Path Exists\n",
    "    try:\n",
    "        folder, sunset = \"input_data\", 'sunrise_sunset_times_jerusalem.csv'\n",
    "        my_file_handle=os.path.exists(folder)\n",
    "        PhotosFromTheEvening(folder, sunset)\n",
    "    except IOError:\n",
    "        print(\"File not found or path is incorrect\")"
   ]
  },
  {
   "cell_type": "code",
   "execution_count": null,
   "id": "a439deb4",
   "metadata": {},
   "outputs": [],
   "source": []
  }
 ],
 "metadata": {
  "kernelspec": {
   "display_name": "Python 3",
   "language": "python",
   "name": "python3"
  },
  "language_info": {
   "codemirror_mode": {
    "name": "ipython",
    "version": 3
   },
   "file_extension": ".py",
   "mimetype": "text/x-python",
   "name": "python",
   "nbconvert_exporter": "python",
   "pygments_lexer": "ipython3",
   "version": "3.8.8"
  }
 },
 "nbformat": 4,
 "nbformat_minor": 5
}
